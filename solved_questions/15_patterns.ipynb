{
 "cells": [
  {
   "cell_type": "markdown",
   "metadata": {},
   "source": [
    "# https://blog.algomaster.io/p/15-leetcode-patterns"
   ]
  },
  {
   "cell_type": "code",
   "execution_count": null,
   "metadata": {},
   "outputs": [
    {
     "name": "stdout",
     "output_type": "stream",
     "text": [
      "[-1, 3, -1]\n"
     ]
    }
   ],
   "source": [
    "#6 https://leetcode.com/problems/next-greater-element-i/description/\n",
    "def nextGreaterElement(nums1, nums2):\n",
    "    result = []\n",
    "    stack = []\n",
    "    greaterMap = {} #key: number, value: greater value of that number\n",
    "    #loop through num2 to find the next greater for each element\n",
    "    for i in range(len(nums2)-1, -1, -1):\n",
    "        #print(nums2[i])\n",
    "        if len(stack) == 0:\n",
    "            #there is no greater for this num2[i] because we are traversing from the right side of the list\n",
    "            greaterMap[nums2[i]] = -1\n",
    "            #put current item into the stack\n",
    "            stack.append(nums2[i])\n",
    "            continue\n",
    "        #check the top item in stack\n",
    "        top_item = stack[len(stack) - 1]\n",
    "        if top_item > nums2[i]:\n",
    "            #this is its next greater\n",
    "            greaterMap[nums2[i]] = top_item\n",
    "            #pop the stack\n",
    "            #stack.pop()\n",
    "            stack.append(nums2[i])\n",
    "        else:   #top item < current item\n",
    "            #need to find the greater item in the stack\n",
    "            while (len(stack) > 0):\n",
    "                stack.pop()\n",
    "                if len(stack) == 0:\n",
    "                    #not found\n",
    "                    greaterMap[nums2[i]] = -1\n",
    "                    break\n",
    "                top_item = stack[len(stack) - 1]\n",
    "                if top_item > nums2[i]:\n",
    "                    greaterMap[nums2[i]] = top_item\n",
    "                    break\n",
    "            #put current item into the stack\n",
    "            stack.append(nums2[i])\n",
    "    #\n",
    "    #print(greaterMap)\n",
    "    #loop through the num1\n",
    "    for item in nums1:\n",
    "        result.append(greaterMap[item])\n",
    "    return result\n",
    "#test\n",
    "nums1 = [4,1,2]\n",
    "nums2 = [1,3,4,2]\n",
    "print(nextGreaterElement(nums1, nums2))   #[-1,3,-1]\n",
    "nums1 = [2,4]\n",
    "nums2 = [1,2,3,4]\n",
    "#print(nextGreaterElement(nums1, nums2))   #[3,-1]\n",
    "nums1 = [1,3,5,2,4]\n",
    "nums2 = [6,5,4,3,2,1,7]\n",
    "#print(nextGreaterElement(nums1, nums2))   #[7,7,7,7,7]\n",
    "#DONE"
   ]
  },
  {
   "cell_type": "code",
   "execution_count": 2,
   "metadata": {},
   "outputs": [
    {
     "name": "stdout",
     "output_type": "stream",
     "text": [
      "[]\n"
     ]
    }
   ],
   "source": [
    "#6 https://leetcode.com/problems/daily-temperatures/description/\n",
    "def dailyTemperatures(temperatures):\n",
    "    results = []\n",
    "\n",
    "\n",
    "    return results\n",
    "#test\n",
    "temperatures = [73,74,75,71,69,72,76,73]    #Output: [1,1,4,2,1,1,0,0]\n",
    "print(dailyTemperatures(temperatures))\n",
    "temperatures = [30,40,50,60]    #Output: [1,1,1,0]\n",
    "#print(dailyTemperatures(temperatures))\n",
    "temperatures = [30,60,90]    #Output: [1,1,0]\n",
    "#print(dailyTemperatures(temperatures))"
   ]
  },
  {
   "cell_type": "code",
   "execution_count": 4,
   "metadata": {},
   "outputs": [
    {
     "name": "stdout",
     "output_type": "stream",
     "text": [
      "0\n"
     ]
    }
   ],
   "source": [
    "#6 https://leetcode.com/problems/largest-rectangle-in-histogram/description/\n",
    "def largestRectangleArea(heights):\n",
    "    output = 0\n",
    "\n",
    "    return output\n",
    "#test\n",
    "heights = [2,1,5,6,2,3] #10\n",
    "print(largestRectangleArea(heights))\n",
    "heights = [2,4] #4\n",
    "#print(largestRectangleArea(heights))\n"
   ]
  },
  {
   "cell_type": "code",
   "execution_count": 5,
   "metadata": {},
   "outputs": [
    {
     "name": "stdout",
     "output_type": "stream",
     "text": [
      "[]\n"
     ]
    }
   ],
   "source": [
    "#7 https://leetcode.com/problems/find-k-pairs-with-smallest-sums/description/\n",
    "def kSmallestPairs(nums1, nums2, k):\n",
    "    output = []\n",
    "\n",
    "    return output\n",
    "#test\n",
    "nums1 = [1,7,11]\n",
    "nums2 = [2,4,6]\n",
    "k = 3\n",
    "print(kSmallestPairs(nums1, nums2, k))      #Output: [[1,2],[1,4],[1,6]]\n",
    "nums1 = [1,1,2]\n",
    "nums2 = [1,2,3]\n",
    "k = 2   \n",
    "#print(kSmallestPairs(nums1, nums2, k))      #Output: [[1,1],[1,1]]\n"
   ]
  },
  {
   "cell_type": "code",
   "execution_count": null,
   "metadata": {},
   "outputs": [],
   "source": [
    "#7 https://leetcode.com/problems/top-k-frequent-elements/description/"
   ]
  },
  {
   "cell_type": "code",
   "execution_count": null,
   "metadata": {},
   "outputs": [],
   "source": [
    "#8 https://leetcode.com/problems/merge-intervals/description/"
   ]
  },
  {
   "cell_type": "code",
   "execution_count": null,
   "metadata": {},
   "outputs": [],
   "source": [
    "#8 https://leetcode.com/problems/insert-interval/description/"
   ]
  },
  {
   "cell_type": "code",
   "execution_count": null,
   "metadata": {},
   "outputs": [],
   "source": [
    "#8 https://leetcode.com/problems/non-overlapping-intervals/description/"
   ]
  },
  {
   "cell_type": "code",
   "execution_count": null,
   "metadata": {},
   "outputs": [],
   "source": [
    "#9 https://leetcode.com/problems/search-in-rotated-sorted-array/description/"
   ]
  },
  {
   "cell_type": "code",
   "execution_count": null,
   "metadata": {},
   "outputs": [],
   "source": [
    "#9 https://leetcode.com/problems/find-minimum-in-rotated-sorted-array/description/"
   ]
  },
  {
   "cell_type": "code",
   "execution_count": null,
   "metadata": {},
   "outputs": [],
   "source": [
    "#9 https://leetcode.com/problems/search-a-2d-matrix-ii/description/"
   ]
  },
  {
   "cell_type": "code",
   "execution_count": null,
   "metadata": {},
   "outputs": [],
   "source": [
    "#10 https://leetcode.com/problems/binary-tree-paths/description/"
   ]
  },
  {
   "cell_type": "code",
   "execution_count": null,
   "metadata": {},
   "outputs": [],
   "source": [
    "#10 https://leetcode.com/problems/kth-smallest-element-in-a-bst/description/"
   ]
  },
  {
   "cell_type": "code",
   "execution_count": null,
   "metadata": {},
   "outputs": [],
   "source": [
    "#10 https://leetcode.com/problems/binary-tree-maximum-path-sum/description/"
   ]
  },
  {
   "cell_type": "code",
   "execution_count": null,
   "metadata": {},
   "outputs": [],
   "source": [
    "#11 https://leetcode.com/problems/clone-graph/description/"
   ]
  },
  {
   "cell_type": "code",
   "execution_count": null,
   "metadata": {},
   "outputs": [],
   "source": [
    "#11 https://leetcode.com/problems/path-sum-ii/description/"
   ]
  },
  {
   "cell_type": "code",
   "execution_count": null,
   "metadata": {},
   "outputs": [],
   "source": [
    "#11 https://leetcode.com/problems/course-schedule-ii/description/"
   ]
  },
  {
   "cell_type": "code",
   "execution_count": null,
   "metadata": {},
   "outputs": [],
   "source": [
    "#12 https://leetcode.com/problems/binary-tree-level-order-traversal/description/"
   ]
  },
  {
   "cell_type": "code",
   "execution_count": null,
   "metadata": {},
   "outputs": [],
   "source": [
    "#12 https://leetcode.com/problems/rotting-oranges/description/"
   ]
  },
  {
   "cell_type": "code",
   "execution_count": null,
   "metadata": {},
   "outputs": [],
   "source": [
    "#12 https://leetcode.com/problems/word-ladder/description/"
   ]
  },
  {
   "cell_type": "code",
   "execution_count": null,
   "metadata": {},
   "outputs": [],
   "source": [
    "#13 https://leetcode.com/problems/flood-fill/description/"
   ]
  },
  {
   "cell_type": "code",
   "execution_count": null,
   "metadata": {},
   "outputs": [],
   "source": [
    "#13 https://leetcode.com/problems/number-of-islands/description/"
   ]
  },
  {
   "cell_type": "code",
   "execution_count": null,
   "metadata": {},
   "outputs": [],
   "source": [
    "#13 https://leetcode.com/problems/surrounded-regions/description/"
   ]
  },
  {
   "cell_type": "code",
   "execution_count": null,
   "metadata": {},
   "outputs": [],
   "source": [
    "#14 https://leetcode.com/problems/permutations/description/"
   ]
  },
  {
   "cell_type": "code",
   "execution_count": null,
   "metadata": {},
   "outputs": [],
   "source": [
    "#14 https://leetcode.com/problems/subsets/description/"
   ]
  },
  {
   "cell_type": "code",
   "execution_count": null,
   "metadata": {},
   "outputs": [],
   "source": [
    "#14 https://leetcode.com/problems/n-queens/description/"
   ]
  },
  {
   "cell_type": "code",
   "execution_count": null,
   "metadata": {},
   "outputs": [],
   "source": [
    "#15 https://leetcode.com/problems/climbing-stairs/description/"
   ]
  },
  {
   "cell_type": "code",
   "execution_count": null,
   "metadata": {},
   "outputs": [],
   "source": [
    "#15 https://leetcode.com/problems/house-robber/description/"
   ]
  },
  {
   "cell_type": "code",
   "execution_count": null,
   "metadata": {},
   "outputs": [],
   "source": [
    "#15 https://leetcode.com/problems/coin-change/description/"
   ]
  },
  {
   "cell_type": "code",
   "execution_count": null,
   "metadata": {},
   "outputs": [],
   "source": [
    "#15 https://leetcode.com/problems/longest-common-subsequence/description/"
   ]
  },
  {
   "cell_type": "code",
   "execution_count": null,
   "metadata": {},
   "outputs": [],
   "source": [
    "#15 https://leetcode.com/problems/longest-increasing-subsequence/description/"
   ]
  },
  {
   "cell_type": "code",
   "execution_count": null,
   "metadata": {},
   "outputs": [],
   "source": [
    "#15 https://leetcode.com/problems/partition-equal-subset-sum/description/"
   ]
  },
  {
   "cell_type": "markdown",
   "metadata": {},
   "source": [
    "# https://blog.algomaster.io/p/20-patterns-to-master-dynamic-programming"
   ]
  },
  {
   "cell_type": "code",
   "execution_count": null,
   "metadata": {},
   "outputs": [],
   "source": []
  }
 ],
 "metadata": {
  "kernelspec": {
   "display_name": "3.9.10",
   "language": "python",
   "name": "python3"
  },
  "language_info": {
   "codemirror_mode": {
    "name": "ipython",
    "version": 3
   },
   "file_extension": ".py",
   "mimetype": "text/x-python",
   "name": "python",
   "nbconvert_exporter": "python",
   "pygments_lexer": "ipython3",
   "version": "3.9.10"
  }
 },
 "nbformat": 4,
 "nbformat_minor": 2
}
