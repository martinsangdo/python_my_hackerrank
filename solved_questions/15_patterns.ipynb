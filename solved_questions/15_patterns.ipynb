{
 "cells": [
  {
   "cell_type": "markdown",
   "metadata": {},
   "source": [
    "# https://blog.algomaster.io/p/15-leetcode-patterns"
   ]
  },
  {
   "cell_type": "markdown",
   "metadata": {},
   "source": [
    "# DONE"
   ]
  },
  {
   "cell_type": "code",
   "execution_count": null,
   "metadata": {},
   "outputs": [
    {
     "name": "stdout",
     "output_type": "stream",
     "text": [
      "[-1, 3, -1]\n"
     ]
    }
   ],
   "source": [
    "#6 https://leetcode.com/problems/next-greater-element-i/description/\n",
    "def nextGreaterElement(nums1, nums2):\n",
    "    result = []\n",
    "    stack = []\n",
    "    greaterMap = {} #key: number, value: greater value of that number\n",
    "    #loop through num2 to find the next greater for each element\n",
    "    for i in range(len(nums2)-1, -1, -1):\n",
    "        #print(nums2[i])\n",
    "        if len(stack) == 0:\n",
    "            #there is no greater for this num2[i] because we are traversing from the right side of the list\n",
    "            greaterMap[nums2[i]] = -1\n",
    "            #put current item into the stack\n",
    "            stack.append(nums2[i])\n",
    "            continue\n",
    "        #check the top item in stack\n",
    "        top_item = stack[len(stack) - 1]\n",
    "        if top_item > nums2[i]:\n",
    "            #this is its next greater\n",
    "            greaterMap[nums2[i]] = top_item\n",
    "            #pop the stack\n",
    "            #stack.pop()\n",
    "            stack.append(nums2[i])\n",
    "        else:   #top item < current item\n",
    "            #need to find the greater item in the stack\n",
    "            while (len(stack) > 0):\n",
    "                stack.pop()\n",
    "                if len(stack) == 0:\n",
    "                    #not found\n",
    "                    greaterMap[nums2[i]] = -1\n",
    "                    break\n",
    "                top_item = stack[len(stack) - 1]\n",
    "                if top_item > nums2[i]:\n",
    "                    greaterMap[nums2[i]] = top_item\n",
    "                    break\n",
    "            #put current item into the stack\n",
    "            stack.append(nums2[i])\n",
    "    #\n",
    "    #print(greaterMap)\n",
    "    #loop through the num1\n",
    "    for item in nums1:\n",
    "        result.append(greaterMap[item])\n",
    "    return result\n",
    "#test\n",
    "nums1 = [4,1,2]\n",
    "nums2 = [1,3,4,2]\n",
    "print(nextGreaterElement(nums1, nums2))   #[-1,3,-1]\n",
    "nums1 = [2,4]\n",
    "nums2 = [1,2,3,4]\n",
    "#print(nextGreaterElement(nums1, nums2))   #[3,-1]\n",
    "nums1 = [1,3,5,2,4]\n",
    "nums2 = [6,5,4,3,2,1,7]\n",
    "#print(nextGreaterElement(nums1, nums2))   #[7,7,7,7,7]\n",
    "#DONE"
   ]
  },
  {
   "cell_type": "code",
   "execution_count": null,
   "metadata": {},
   "outputs": [
    {
     "name": "stdout",
     "output_type": "stream",
     "text": [
      "[1, 1, 0]\n"
     ]
    }
   ],
   "source": [
    "#6 https://leetcode.com/problems/daily-temperatures/description/\n",
    "def dailyTemperatures(temperatures):\n",
    "    results = []\n",
    "    arrLen = len(temperatures)\n",
    "    if arrLen == 0:\n",
    "        return []\n",
    "    results.append(0)  #in reversed order, the last item always has 0\n",
    "    for i in range(arrLen-2, -1, -1):\n",
    "        if temperatures[i] < temperatures[i+1]:\n",
    "            results.append(1)  #right next to have warmer day\n",
    "        else:\n",
    "            #search to the right to get warmer day, if any\n",
    "            found = False\n",
    "            for j in range(i+1, arrLen):\n",
    "                if temperatures[j] > temperatures[i]:\n",
    "                    results.append(j - i)\n",
    "                    found = True\n",
    "                    break\n",
    "            if not found:\n",
    "                results.append(0)  #not found\n",
    "    #revert the results\n",
    "    final_results = []\n",
    "    for i in range(arrLen-1, -1, -1):\n",
    "        final_results.append(results[i])\n",
    "    #\n",
    "    return final_results\n",
    "#test\n",
    "temperatures = [73,74,75,71,69,72,76,73]    #Output: [1,1,4,2,1,1,0,0]\n",
    "print(dailyTemperatures(temperatures))\n",
    "temperatures = [30,40,50,60]    #Output: [1,1,1,0]\n",
    "#print(dailyTemperatures(temperatures))\n",
    "temperatures = [30,60,90]    #Output: [1,1,0]\n",
    "#print(dailyTemperatures(temperatures))\n",
    "\n",
    "### First submission: Timeout (36 / 48 testcases passed)"
   ]
  },
  {
   "cell_type": "code",
   "execution_count": 4,
   "metadata": {},
   "outputs": [
    {
     "name": "stdout",
     "output_type": "stream",
     "text": [
      "0\n"
     ]
    }
   ],
   "source": [
    "#6 https://leetcode.com/problems/largest-rectangle-in-histogram/description/\n",
    "def largestRectangleArea(heights):\n",
    "    output = 0\n",
    "\n",
    "    return output\n",
    "#test\n",
    "heights = [2,1,5,6,2,3] #10\n",
    "print(largestRectangleArea(heights))\n",
    "heights = [2,4] #4\n",
    "#print(largestRectangleArea(heights))\n"
   ]
  },
  {
   "cell_type": "code",
   "execution_count": 10,
   "metadata": {},
   "outputs": [
    {
     "name": "stdout",
     "output_type": "stream",
     "text": [
      "[[1, 3], [2, 3], [2, 5], [2, 7], [2, 9], [4, 9], [5, 9], [6, 9]]\n"
     ]
    }
   ],
   "source": [
    "#7 https://leetcode.com/problems/find-k-pairs-with-smallest-sums/description/\n",
    "def kSmallestPairs_f(nums1, nums2, k):    #memory exceeds\n",
    "    output = []\n",
    "    sumMap = {} #key: sum of pairs, value: list of pairs\n",
    "    if k == 0:\n",
    "        return []\n",
    "    #since the arrays are on increased order, we loop each array with k values\n",
    "    for i in range(k):\n",
    "        for j in range(k):\n",
    "            a_pair = [nums1[i], nums2[j]]\n",
    "            sum = nums1[i] + nums2[j]\n",
    "            if sum in sumMap:\n",
    "                list = sumMap[sum]\n",
    "                list.append(a_pair) #they accept duplicated pairs\n",
    "                sumMap[sum] = list\n",
    "            else:\n",
    "                sumMap[sum] = [a_pair]\n",
    "    #sort the map\n",
    "    sortedMap = sorted(sumMap.keys())\n",
    "    print(sortedMap)\n",
    "    #traverse the sumMap to get k pairs\n",
    "    count = 0\n",
    "    for key in sortedMap:\n",
    "        if count < k:\n",
    "            list = sumMap[key]\n",
    "            for pair in list:\n",
    "                if count < k:\n",
    "                    output.append(pair)\n",
    "                count += 1\n",
    "    return output\n",
    "#method 2\n",
    "def kSmallestPairs(nums1, nums2, k):\n",
    "    output = []\n",
    "    if k == 0:\n",
    "        return []\n",
    "    #use 2 pointers in 2 arrays\n",
    "    i = 0   #nums1\n",
    "    j = 0   #nums2\n",
    "    while k >= 0 and i < len(nums1) and j < len(nums2):\n",
    "        #append current pair into the list\n",
    "        output.append([nums1[i], nums2[j]])\n",
    "        #consider move i\n",
    "        if i == len(nums1) - 1:\n",
    "            j += 1\n",
    "            continue\n",
    "        if j == len(nums2) - 1:\n",
    "            i += 1\n",
    "            continue\n",
    "        if nums1[i+1] + nums2[j] < nums1[i] + nums2[j+1]:\n",
    "            i += 1\n",
    "        else:\n",
    "            j += 1\n",
    "\n",
    "    return output\n",
    "#test\n",
    "nums1 = [1,7,11]\n",
    "nums2 = [2,4,6]\n",
    "k = 3\n",
    "#print(kSmallestPairs(nums1, nums2, k))      #Output: [[1,2],[1,4],[1,6]]\n",
    "nums1 = [1,1,2]\n",
    "nums2 = [1,2,3]\n",
    "k = 2   \n",
    "#print(kSmallestPairs(nums1, nums2, k))      #Output: [[1,1],[1,1]]\n",
    "nums1 = [1,2,4,5,6]\n",
    "nums2 = [3,5,7,9]\n",
    "k = 3\n",
    "print(kSmallestPairs(nums1, nums2, k))      #Output: [[1,3],[2,3],[1,5]]\n"
   ]
  },
  {
   "cell_type": "code",
   "execution_count": 2,
   "metadata": {},
   "outputs": [
    {
     "name": "stdout",
     "output_type": "stream",
     "text": [
      "[]\n"
     ]
    }
   ],
   "source": [
    "#7 https://leetcode.com/problems/top-k-frequent-elements/description/\n",
    "def topKFrequent(nums, k):\n",
    "    outcome = []\n",
    "\n",
    "    return outcome\n",
    "#test\n",
    "nums = [1,1,1,2,2,3]\n",
    "k = 2\n",
    "print(topKFrequent(nums, k)) # [1,2]"
   ]
  },
  {
   "cell_type": "code",
   "execution_count": 3,
   "metadata": {},
   "outputs": [
    {
     "name": "stdout",
     "output_type": "stream",
     "text": [
      "[]\n"
     ]
    }
   ],
   "source": [
    "#8 https://leetcode.com/problems/merge-intervals/description/\n",
    "def merge(intervals):\n",
    "    outcome = []\n",
    "\n",
    "    return outcome\n",
    "#test\n",
    "intervals = [[1,3],[2,6],[8,10],[15,18]]\n",
    "#Output: [[1,6],[8,10],[15,18]]\n",
    "#Explanation: Since intervals [1,3] and [2,6] overlap, merge them into [1,6]\n",
    "print(merge(intervals))"
   ]
  },
  {
   "cell_type": "code",
   "execution_count": null,
   "metadata": {},
   "outputs": [
    {
     "name": "stdout",
     "output_type": "stream",
     "text": [
      "[]\n"
     ]
    }
   ],
   "source": [
    "#8 https://leetcode.com/problems/insert-interval/description/\n",
    "def insert(intervals, newInterval):\n",
    "    outcome = []\n",
    "\n",
    "    return outcome\n",
    "#test\n",
    "intervals = [[1,3],[6,9]]\n",
    "newInterval = [2,5]\n",
    "#Output: [[1,5],[6,9]]\n",
    "print(insert(intervals, newInterval))"
   ]
  },
  {
   "cell_type": "code",
   "execution_count": null,
   "metadata": {},
   "outputs": [],
   "source": [
    "#8 https://leetcode.com/problems/non-overlapping-intervals/description/\n"
   ]
  },
  {
   "cell_type": "code",
   "execution_count": null,
   "metadata": {},
   "outputs": [],
   "source": [
    "#9 https://leetcode.com/problems/search-in-rotated-sorted-array/description/"
   ]
  },
  {
   "cell_type": "code",
   "execution_count": null,
   "metadata": {},
   "outputs": [],
   "source": [
    "#9 https://leetcode.com/problems/find-minimum-in-rotated-sorted-array/description/"
   ]
  },
  {
   "cell_type": "code",
   "execution_count": null,
   "metadata": {},
   "outputs": [],
   "source": [
    "#9 https://leetcode.com/problems/search-a-2d-matrix-ii/description/"
   ]
  },
  {
   "cell_type": "code",
   "execution_count": null,
   "metadata": {},
   "outputs": [],
   "source": [
    "#10 https://leetcode.com/problems/binary-tree-paths/description/"
   ]
  },
  {
   "cell_type": "code",
   "execution_count": null,
   "metadata": {},
   "outputs": [],
   "source": [
    "#10 https://leetcode.com/problems/kth-smallest-element-in-a-bst/description/"
   ]
  },
  {
   "cell_type": "code",
   "execution_count": null,
   "metadata": {},
   "outputs": [],
   "source": [
    "#10 https://leetcode.com/problems/binary-tree-maximum-path-sum/description/"
   ]
  },
  {
   "cell_type": "code",
   "execution_count": null,
   "metadata": {},
   "outputs": [],
   "source": [
    "#11 https://leetcode.com/problems/clone-graph/description/"
   ]
  },
  {
   "cell_type": "code",
   "execution_count": null,
   "metadata": {},
   "outputs": [],
   "source": [
    "#11 https://leetcode.com/problems/path-sum-ii/description/"
   ]
  },
  {
   "cell_type": "code",
   "execution_count": null,
   "metadata": {},
   "outputs": [],
   "source": [
    "#11 https://leetcode.com/problems/course-schedule-ii/description/"
   ]
  },
  {
   "cell_type": "code",
   "execution_count": null,
   "metadata": {},
   "outputs": [],
   "source": [
    "#12 https://leetcode.com/problems/binary-tree-level-order-traversal/description/"
   ]
  },
  {
   "cell_type": "code",
   "execution_count": null,
   "metadata": {},
   "outputs": [],
   "source": [
    "#12 https://leetcode.com/problems/rotting-oranges/description/"
   ]
  },
  {
   "cell_type": "code",
   "execution_count": null,
   "metadata": {},
   "outputs": [],
   "source": [
    "#12 https://leetcode.com/problems/word-ladder/description/"
   ]
  },
  {
   "cell_type": "code",
   "execution_count": null,
   "metadata": {},
   "outputs": [],
   "source": [
    "#13 https://leetcode.com/problems/flood-fill/description/"
   ]
  },
  {
   "cell_type": "code",
   "execution_count": null,
   "metadata": {},
   "outputs": [],
   "source": [
    "#13 https://leetcode.com/problems/number-of-islands/description/"
   ]
  },
  {
   "cell_type": "code",
   "execution_count": null,
   "metadata": {},
   "outputs": [],
   "source": [
    "#13 https://leetcode.com/problems/surrounded-regions/description/"
   ]
  },
  {
   "cell_type": "code",
   "execution_count": null,
   "metadata": {},
   "outputs": [],
   "source": [
    "#14 https://leetcode.com/problems/permutations/description/"
   ]
  },
  {
   "cell_type": "code",
   "execution_count": null,
   "metadata": {},
   "outputs": [],
   "source": [
    "#14 https://leetcode.com/problems/subsets/description/"
   ]
  },
  {
   "cell_type": "code",
   "execution_count": null,
   "metadata": {},
   "outputs": [],
   "source": [
    "#14 https://leetcode.com/problems/n-queens/description/"
   ]
  },
  {
   "cell_type": "code",
   "execution_count": null,
   "metadata": {},
   "outputs": [],
   "source": [
    "#15 https://leetcode.com/problems/climbing-stairs/description/"
   ]
  },
  {
   "cell_type": "code",
   "execution_count": null,
   "metadata": {},
   "outputs": [],
   "source": [
    "#15 https://leetcode.com/problems/house-robber/description/"
   ]
  },
  {
   "cell_type": "code",
   "execution_count": null,
   "metadata": {},
   "outputs": [],
   "source": [
    "#15 https://leetcode.com/problems/coin-change/description/"
   ]
  },
  {
   "cell_type": "code",
   "execution_count": null,
   "metadata": {},
   "outputs": [],
   "source": [
    "#15 https://leetcode.com/problems/longest-common-subsequence/description/"
   ]
  },
  {
   "cell_type": "code",
   "execution_count": null,
   "metadata": {},
   "outputs": [],
   "source": [
    "#15 https://leetcode.com/problems/longest-increasing-subsequence/description/"
   ]
  },
  {
   "cell_type": "code",
   "execution_count": null,
   "metadata": {},
   "outputs": [],
   "source": [
    "#15 https://leetcode.com/problems/partition-equal-subset-sum/description/"
   ]
  },
  {
   "cell_type": "markdown",
   "metadata": {},
   "source": [
    "# https://blog.algomaster.io/p/20-patterns-to-master-dynamic-programming"
   ]
  },
  {
   "cell_type": "code",
   "execution_count": null,
   "metadata": {},
   "outputs": [],
   "source": []
  }
 ],
 "metadata": {
  "kernelspec": {
   "display_name": "3.9.10",
   "language": "python",
   "name": "python3"
  },
  "language_info": {
   "codemirror_mode": {
    "name": "ipython",
    "version": 3
   },
   "file_extension": ".py",
   "mimetype": "text/x-python",
   "name": "python",
   "nbconvert_exporter": "python",
   "pygments_lexer": "ipython3",
   "version": "3.9.10"
  }
 },
 "nbformat": 4,
 "nbformat_minor": 2
}
