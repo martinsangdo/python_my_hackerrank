{
 "cells": [
  {
   "cell_type": "markdown",
   "metadata": {},
   "source": [
    "# problems"
   ]
  },
  {
   "cell_type": "code",
   "execution_count": 7,
   "metadata": {},
   "outputs": [
    {
     "name": "stdout",
     "output_type": "stream",
     "text": [
      "24\n"
     ]
    }
   ],
   "source": [
    "#find max sub matrix when row or col can be flipped\n",
    "#idea: since the position (i, j) only swapped into 3 positions: same row(i, 2n - j - 1), \n",
    "# same column(2n - i - 1, j), or \n",
    "# opposite row and col(2n - i - 1, 2n - j - 1) -> find max values of those positions\n",
    "#input: matrix 2n x 2n\n",
    "def find_max_n_matrix(matrix_2n):\n",
    "    n = int(len(matrix_2n) / 2)\n",
    "    n2 = n * 2\n",
    "    maxSum = -1\n",
    "    for i in range(n):\n",
    "        for j in range(n):\n",
    "            #max of 3 positions & itself\n",
    "            sum = max(matrix_2n[i][j], matrix_2n[i][n2 - j - 1], matrix_2n[n2 - i - 1][j], matrix_2n[n2 - i - 1][n2 - j - 1])\n",
    "            if sum > maxSum:\n",
    "                maxSum = sum\n",
    "    return maxSum\n",
    "#test\n",
    "matrix_2n = [[24, 9, 6, 8], [2, 2, 0, 3], [5, 1, 8, 13], [3, 5, 7, 2]]\n",
    "print(find_max_n_matrix(matrix_2n))"
   ]
  },
  {
   "cell_type": "code",
   "execution_count": null,
   "metadata": {},
   "outputs": [],
   "source": [
    "#shift characters in a string\n",
    "def caesarCipher(s, k):\n",
    "    # Write your code here\n",
    "    char_list = list(s)\n",
    "    newArr = []\n",
    "    int_a = ord('a')\n",
    "    int_z = ord('z')\n",
    "    #print(int_a)\n",
    "    #print(int_z)\n",
    "    int_A = ord('A')\n",
    "    int_Z = ord('Z')\n",
    "    #print(int_A)\n",
    "    #print(int_Z)\n",
    "\n",
    "    for c in char_list:\n",
    "        int_c = ord(c)\n",
    "        int_new_c = int_c + k\n",
    "        if int_a <= int_c and int_c <= int_z:\n",
    "            #c in [a-z]\n",
    "            int_new_c = int_a + (int_new_c - int_a) % 26\n",
    "            newArr.append(chr(int_new_c))\n",
    "        elif int_A <= int_c and int_c <= int_Z:\n",
    "            #c in [A-Z]\n",
    "            int_new_c = int_A + (int_new_c - int_A) % 26\n",
    "            newArr.append(chr(int_new_c))\n",
    "        else:\n",
    "            #this is a symbol\n",
    "            newArr.append(c)\n",
    "        #print(ord(c))\n",
    "    return ''.join(newArr)"
   ]
  },
  {
   "cell_type": "code",
   "execution_count": 38,
   "metadata": {},
   "outputs": [
    {
     "name": "stdout",
     "output_type": "stream",
     "text": [
      "3\n",
      "0\n",
      "-1\n"
     ]
    }
   ],
   "source": [
    "#create palindrom string by removing a character\n",
    "def palindromeIndex(s):\n",
    "    list_c = list(s)\n",
    "    #index to remove\n",
    "    index1 = -1\n",
    "    l_index = 0\n",
    "    r_index = len(s) - 1\n",
    "    no_solution_left = False\n",
    "    while l_index < r_index:\n",
    "        if list_c[l_index] != list_c[r_index]:\n",
    "            if index1 > -1:\n",
    "                #already removed 1 char\n",
    "                no_solution_left = True   #let try remove char from the right\n",
    "                break\n",
    "            #remove a char at l_index\n",
    "            index1 = l_index\n",
    "        else:\n",
    "            r_index -= 1\n",
    "        l_index += 1    #move next\n",
    "    #print(index1)\n",
    "    #loop from right\n",
    "    if no_solution_left:\n",
    "        index2 = -1\n",
    "        l_index = 0\n",
    "        r_index = len(s) - 1\n",
    "        while l_index < r_index:\n",
    "            if list_c[l_index] != list_c[r_index]:\n",
    "                if index2 > -1:\n",
    "                    #already removed 1 char\n",
    "                    index2 = -1   #reset\n",
    "                #remove a char at r_index\n",
    "                index2 = r_index\n",
    "            else:\n",
    "                l_index += 1\n",
    "            r_index -= 1\n",
    "        return index2\n",
    "    return index1\n",
    "#test\n",
    "print(palindromeIndex('aaab'))\n",
    "print(palindromeIndex('baa'))\n",
    "print(palindromeIndex('aaa'))\n"
   ]
  },
  {
   "cell_type": "code",
   "execution_count": null,
   "metadata": {},
   "outputs": [
    {
     "name": "stdout",
     "output_type": "stream",
     "text": [
      "[1, 2, 3, 3, 4, 5, 6, 11]\n",
      "{3, 4, 5, 6, 7, 8, 13}\n",
      "5\n"
     ]
    }
   ],
   "source": [
    "#find number of pairs that have difference is equal to k\n",
    "#lesson: use map or binary search to optimize runtime (do not use \"in\" array)\n",
    "def find_pairs(k, arr):\n",
    "    no = 0  #no. of pairs\n",
    "    sorted_arr = sorted(arr)\n",
    "    print(sorted_arr)\n",
    "    #create set of diff\n",
    "    diffSet = set()\n",
    "    for i in sorted_arr:\n",
    "        diffSet.add(i + k)\n",
    "    print(diffSet)\n",
    "    for i in arr:\n",
    "        if i in diffSet:\n",
    "            no += 1\n",
    "    return no\n",
    "\n",
    "\n",
    "#test\n",
    "k = 2\n",
    "arr = [1, 5, 3, 4, 2, 3, 6, 11]\n",
    "print(find_pairs(k, arr))"
   ]
  },
  {
   "cell_type": "code",
   "execution_count": null,
   "metadata": {},
   "outputs": [],
   "source": []
  }
 ],
 "metadata": {
  "kernelspec": {
   "display_name": "3.9.10",
   "language": "python",
   "name": "python3"
  },
  "language_info": {
   "codemirror_mode": {
    "name": "ipython",
    "version": 3
   },
   "file_extension": ".py",
   "mimetype": "text/x-python",
   "name": "python",
   "nbconvert_exporter": "python",
   "pygments_lexer": "ipython3",
   "version": "3.9.10"
  }
 },
 "nbformat": 4,
 "nbformat_minor": 2
}
