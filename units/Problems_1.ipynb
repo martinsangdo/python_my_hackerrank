{
 "cells": [
  {
   "cell_type": "markdown",
   "metadata": {},
   "source": [
    "# problems"
   ]
  },
  {
   "cell_type": "code",
   "execution_count": 7,
   "metadata": {},
   "outputs": [
    {
     "name": "stdout",
     "output_type": "stream",
     "text": [
      "24\n"
     ]
    }
   ],
   "source": [
    "#find max sub matrix when row or col can be flipped\n",
    "#idea: since the position (i, j) only swapped into 3 positions: same row(i, 2n - j - 1), \n",
    "# same column(2n - i - 1, j), or \n",
    "# opposite row and col(2n - i - 1, 2n - j - 1) -> find max values of those positions\n",
    "#input: matrix 2n x 2n\n",
    "def find_max_n_matrix(matrix_2n):\n",
    "    n = int(len(matrix_2n) / 2)\n",
    "    n2 = n * 2\n",
    "    maxSum = -1\n",
    "    for i in range(n):\n",
    "        for j in range(n):\n",
    "            #max of 3 positions & itself\n",
    "            sum = max(matrix_2n[i][j], matrix_2n[i][n2 - j - 1], matrix_2n[n2 - i - 1][j], matrix_2n[n2 - i - 1][n2 - j - 1])\n",
    "            if sum > maxSum:\n",
    "                maxSum = sum\n",
    "    return maxSum\n",
    "#test\n",
    "matrix_2n = [[24, 9, 6, 8], [2, 2, 0, 3], [5, 1, 8, 13], [3, 5, 7, 2]]\n",
    "print(find_max_n_matrix(matrix_2n))"
   ]
  },
  {
   "cell_type": "code",
   "execution_count": null,
   "metadata": {},
   "outputs": [],
   "source": [
    "#shift characters in a string\n",
    "def caesarCipher(s, k):\n",
    "    # Write your code here\n",
    "    char_list = list(s)\n",
    "    newArr = []\n",
    "    int_a = ord('a')\n",
    "    int_z = ord('z')\n",
    "    #print(int_a)\n",
    "    #print(int_z)\n",
    "    int_A = ord('A')\n",
    "    int_Z = ord('Z')\n",
    "    #print(int_A)\n",
    "    #print(int_Z)\n",
    "\n",
    "    for c in char_list:\n",
    "        int_c = ord(c)\n",
    "        int_new_c = int_c + k\n",
    "        if int_a <= int_c and int_c <= int_z:\n",
    "            #c in [a-z]\n",
    "            int_new_c = int_a + (int_new_c - int_a) % 26\n",
    "            newArr.append(chr(int_new_c))\n",
    "        elif int_A <= int_c and int_c <= int_Z:\n",
    "            #c in [A-Z]\n",
    "            int_new_c = int_A + (int_new_c - int_A) % 26\n",
    "            newArr.append(chr(int_new_c))\n",
    "        else:\n",
    "            #this is a symbol\n",
    "            newArr.append(c)\n",
    "        #print(ord(c))\n",
    "    return ''.join(newArr)"
   ]
  },
  {
   "cell_type": "code",
   "execution_count": 38,
   "metadata": {},
   "outputs": [
    {
     "name": "stdout",
     "output_type": "stream",
     "text": [
      "3\n",
      "0\n",
      "-1\n"
     ]
    }
   ],
   "source": [
    "#create palindrom string by removing a character\n",
    "def palindromeIndex(s):\n",
    "    list_c = list(s)\n",
    "    #index to remove\n",
    "    index1 = -1\n",
    "    l_index = 0\n",
    "    r_index = len(s) - 1\n",
    "    no_solution_left = False\n",
    "    while l_index < r_index:\n",
    "        if list_c[l_index] != list_c[r_index]:\n",
    "            if index1 > -1:\n",
    "                #already removed 1 char\n",
    "                no_solution_left = True   #let try remove char from the right\n",
    "                break\n",
    "            #remove a char at l_index\n",
    "            index1 = l_index\n",
    "        else:\n",
    "            r_index -= 1\n",
    "        l_index += 1    #move next\n",
    "    #print(index1)\n",
    "    #loop from right\n",
    "    if no_solution_left:\n",
    "        index2 = -1\n",
    "        l_index = 0\n",
    "        r_index = len(s) - 1\n",
    "        while l_index < r_index:\n",
    "            if list_c[l_index] != list_c[r_index]:\n",
    "                if index2 > -1:\n",
    "                    #already removed 1 char\n",
    "                    index2 = -1   #reset\n",
    "                #remove a char at r_index\n",
    "                index2 = r_index\n",
    "            else:\n",
    "                l_index += 1\n",
    "            r_index -= 1\n",
    "        return index2\n",
    "    return index1\n",
    "#test\n",
    "print(palindromeIndex('aaab'))\n",
    "print(palindromeIndex('baa'))\n",
    "print(palindromeIndex('aaa'))\n"
   ]
  },
  {
   "cell_type": "code",
   "execution_count": null,
   "metadata": {},
   "outputs": [
    {
     "name": "stdout",
     "output_type": "stream",
     "text": [
      "[1, 2, 3, 3, 4, 5, 6, 11]\n",
      "{3, 4, 5, 6, 7, 8, 13}\n",
      "5\n"
     ]
    }
   ],
   "source": [
    "#find number of pairs that have difference is equal to k\n",
    "#lesson: use map or binary search to optimize runtime (do not use \"in\" array)\n",
    "def find_pairs(k, arr):\n",
    "    no = 0  #no. of pairs\n",
    "    sorted_arr = sorted(arr)\n",
    "    print(sorted_arr)\n",
    "    #create set of diff\n",
    "    diffSet = set()\n",
    "    for i in sorted_arr:\n",
    "        diffSet.add(i + k)\n",
    "    print(diffSet)\n",
    "    for i in arr:\n",
    "        if i in diffSet:\n",
    "            no += 1\n",
    "    return no\n",
    "\n",
    "\n",
    "#test\n",
    "k = 2\n",
    "arr = [1, 5, 3, 4, 2, 3, 6, 11]\n",
    "print(find_pairs(k, arr))"
   ]
  },
  {
   "cell_type": "code",
   "execution_count": 4,
   "metadata": {},
   "outputs": [
    {
     "name": "stdout",
     "output_type": "stream",
     "text": [
      "[18, 7]\n",
      "[3, 3, 6, 13]\n"
     ]
    }
   ],
   "source": [
    "#find 2 sub sets that closest number\n",
    "arrTotal = [7, 18, 13, 6, 3, 3]\n",
    "def find_sub_sets():\n",
    "    n = len(arrTotal)\n",
    "    total_sum = sum(arrTotal)\n",
    "    target_sum = total_sum / 2\n",
    "\n",
    "    # Create a DP table to store whether a sum can be achieved using the elements.\n",
    "    dp = [[False] * (int(target_sum) + 1) for _ in range(n + 1)]\n",
    "\n",
    "    # Initialize the first column to True (sum 0 is always possible).\n",
    "    for i in range(n + 1):\n",
    "        dp[i][0] = True\n",
    "\n",
    "    # Fill the DP table.\n",
    "    for i in range(1, n + 1):\n",
    "        for j in range(1, int(target_sum) + 1):\n",
    "            if arrTotal[i - 1] <= j:\n",
    "                dp[i][j] = dp[i - 1][j] or dp[i - 1][j - arrTotal[i - 1]]\n",
    "            else:\n",
    "                dp[i][j] = dp[i - 1][j]\n",
    "\n",
    "    # Find the closest sum to the target sum.\n",
    "    closest_sum = 0\n",
    "    for j in range(int(target_sum), -1, -1):\n",
    "        if dp[n][j]:\n",
    "            closest_sum = j\n",
    "            break\n",
    "\n",
    "    # Reconstruct the subsets.\n",
    "    subset1 = []\n",
    "    subset2 = []\n",
    "    i = n\n",
    "    j = closest_sum\n",
    "    while i > 0 and j >= 0:\n",
    "        if dp[i - 1][j]:\n",
    "            subset2.append(arrTotal[i - 1])\n",
    "            i -= 1\n",
    "        else:\n",
    "            subset1.append(arrTotal[i - 1])\n",
    "            j -= arrTotal[i - 1]\n",
    "            i -= 1\n",
    "    remaining_elements = []\n",
    "    for num in arrTotal:\n",
    "        if num not in subset1 and num not in subset2:\n",
    "          remaining_elements.append(num)\n",
    "\n",
    "    if len(remaining_elements) > 0:\n",
    "      for num in remaining_elements:\n",
    "        if sum(subset1) <= sum(subset2):\n",
    "          subset1.append(num)\n",
    "        else:\n",
    "          subset2.append(num)\n",
    "\n",
    "    return subset1, subset2\n",
    "#test\n",
    "subset1, subset2 = find_sub_sets()\n",
    "print(subset1)\n",
    "print(subset2)"
   ]
  },
  {
   "cell_type": "code",
   "execution_count": null,
   "metadata": {},
   "outputs": [],
   "source": [
    "#print the tree (preorder traversal)\n",
    "def preOrder(root):\n",
    "    #Write your code here\n",
    "    #print(root.info)\n",
    "    arrQueueNodes = []\n",
    "    arrQueueNodes.append(root)\n",
    "    arrQueueValues = []\n",
    "    while len(arrQueueNodes) > 0:\n",
    "        #get the first item of the queue nodes\n",
    "        currentNode = arrQueueNodes[0]\n",
    "        #save the info\n",
    "        arrQueueValues.append(str(currentNode.info))\n",
    "        arrQueueNodes.pop(0)    #remove the first item\n",
    "        #put the left node, if any\n",
    "        if currentNode.right is not None:\n",
    "            #put to the queue\n",
    "            arrQueueNodes.insert(0, currentNode.right)  #insert right first, for the case that the node has both left & right nodes\n",
    "        if currentNode.left is not None:\n",
    "            #put to the queue\n",
    "            arrQueueNodes.insert(0, currentNode.left)\n",
    "        \n",
    "    #print the arrQueueValues\n",
    "    \n",
    "    print(' '.join(arrQueueValues))\n"
   ]
  }
 ],
 "metadata": {
  "kernelspec": {
   "display_name": "3.9.10",
   "language": "python",
   "name": "python3"
  },
  "language_info": {
   "codemirror_mode": {
    "name": "ipython",
    "version": 3
   },
   "file_extension": ".py",
   "mimetype": "text/x-python",
   "name": "python",
   "nbconvert_exporter": "python",
   "pygments_lexer": "ipython3",
   "version": "3.9.10"
  }
 },
 "nbformat": 4,
 "nbformat_minor": 2
}
