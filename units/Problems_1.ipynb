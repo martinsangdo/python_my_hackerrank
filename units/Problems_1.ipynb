{
 "cells": [
  {
   "cell_type": "markdown",
   "metadata": {},
   "source": [
    "# problems"
   ]
  },
  {
   "cell_type": "code",
   "execution_count": 32,
   "metadata": {},
   "outputs": [
    {
     "name": "stdout",
     "output_type": "stream",
     "text": [
      "24\n"
     ]
    }
   ],
   "source": [
    "#find max sub matrix when row or col can be flipped\n",
    "#idea: since the position (i, j) only swapped into 3 positions: same row(i, 2n - j - 1), \n",
    "# same column(2n - i - 1, j), or \n",
    "# opposite row and col(2n - i - 1, 2n - j - 1) -> find max values of those positions\n",
    "#input: matrix 2n x 2n\n",
    "def find_max_n_matrix(matrix_2n):\n",
    "    n = int(len(matrix_2n) / 2)\n",
    "    n2 = n * 2\n",
    "    maxSum = -1\n",
    "    for i in range(n):\n",
    "        for j in range(n):\n",
    "            #max of 3 positions & itself\n",
    "            sum = max(matrix_2n[i][j], matrix_2n[i][n2 - j - 1], matrix_2n[n2 - i - 1][j], matrix_2n[n2 - i - 1][n2 - j - 1])\n",
    "            if sum > maxSum:\n",
    "                maxSum = sum\n",
    "    return maxSum\n",
    "#test\n",
    "matrix_2n = [[24, 9, 6, 8], [2, 2, 0, 3], [5, 1, 8, 13], [3, 5, 7, 2]]\n",
    "print(find_max_n_matrix(matrix_2n))"
   ]
  },
  {
   "cell_type": "code",
   "execution_count": 33,
   "metadata": {},
   "outputs": [],
   "source": [
    "#shift characters in a string\n",
    "def caesarCipher(s, k):\n",
    "    # Write your code here\n",
    "    char_list = list(s)\n",
    "    newArr = []\n",
    "    int_a = ord('a')\n",
    "    int_z = ord('z')\n",
    "    #print(int_a)\n",
    "    #print(int_z)\n",
    "    int_A = ord('A')\n",
    "    int_Z = ord('Z')\n",
    "    #print(int_A)\n",
    "    #print(int_Z)\n",
    "\n",
    "    for c in char_list:\n",
    "        int_c = ord(c)\n",
    "        int_new_c = int_c + k\n",
    "        if int_a <= int_c and int_c <= int_z:\n",
    "            #c in [a-z]\n",
    "            int_new_c = int_a + (int_new_c - int_a) % 26\n",
    "            newArr.append(chr(int_new_c))\n",
    "        elif int_A <= int_c and int_c <= int_Z:\n",
    "            #c in [A-Z]\n",
    "            int_new_c = int_A + (int_new_c - int_A) % 26\n",
    "            newArr.append(chr(int_new_c))\n",
    "        else:\n",
    "            #this is a symbol\n",
    "            newArr.append(c)\n",
    "        #print(ord(c))\n",
    "    return ''.join(newArr)"
   ]
  },
  {
   "cell_type": "code",
   "execution_count": 34,
   "metadata": {},
   "outputs": [
    {
     "name": "stdout",
     "output_type": "stream",
     "text": [
      "3\n",
      "0\n",
      "-1\n"
     ]
    }
   ],
   "source": [
    "#create palindrom string by removing a character\n",
    "def palindromeIndex(s):\n",
    "    list_c = list(s)\n",
    "    #index to remove\n",
    "    index1 = -1\n",
    "    l_index = 0\n",
    "    r_index = len(s) - 1\n",
    "    no_solution_left = False\n",
    "    while l_index < r_index:\n",
    "        if list_c[l_index] != list_c[r_index]:\n",
    "            if index1 > -1:\n",
    "                #already removed 1 char\n",
    "                no_solution_left = True   #let try remove char from the right\n",
    "                break\n",
    "            #remove a char at l_index\n",
    "            index1 = l_index\n",
    "        else:\n",
    "            r_index -= 1\n",
    "        l_index += 1    #move next\n",
    "    #print(index1)\n",
    "    #loop from right\n",
    "    if no_solution_left:\n",
    "        index2 = -1\n",
    "        l_index = 0\n",
    "        r_index = len(s) - 1\n",
    "        while l_index < r_index:\n",
    "            if list_c[l_index] != list_c[r_index]:\n",
    "                if index2 > -1:\n",
    "                    #already removed 1 char\n",
    "                    index2 = -1   #reset\n",
    "                #remove a char at r_index\n",
    "                index2 = r_index\n",
    "            else:\n",
    "                l_index += 1\n",
    "            r_index -= 1\n",
    "        return index2\n",
    "    return index1\n",
    "#test\n",
    "print(palindromeIndex('aaab'))\n",
    "print(palindromeIndex('baa'))\n",
    "print(palindromeIndex('aaa'))\n"
   ]
  },
  {
   "cell_type": "code",
   "execution_count": 35,
   "metadata": {},
   "outputs": [
    {
     "name": "stdout",
     "output_type": "stream",
     "text": [
      "[1, 2, 3, 3, 4, 5, 6, 11]\n",
      "{3, 4, 5, 6, 7, 8, 13}\n",
      "5\n"
     ]
    }
   ],
   "source": [
    "#find number of pairs that have difference is equal to k\n",
    "#lesson: use map or binary search to optimize runtime (do not use \"in\" array)\n",
    "def find_pairs(k, arr):\n",
    "    no = 0  #no. of pairs\n",
    "    sorted_arr = sorted(arr)\n",
    "    print(sorted_arr)\n",
    "    #create set of diff\n",
    "    diffSet = set()\n",
    "    for i in sorted_arr:\n",
    "        diffSet.add(i + k)\n",
    "    print(diffSet)\n",
    "    for i in arr:\n",
    "        if i in diffSet:\n",
    "            no += 1\n",
    "    return no\n",
    "\n",
    "\n",
    "#test\n",
    "k = 2\n",
    "arr = [1, 5, 3, 4, 2, 3, 6, 11]\n",
    "print(find_pairs(k, arr))"
   ]
  },
  {
   "cell_type": "code",
   "execution_count": 36,
   "metadata": {},
   "outputs": [
    {
     "name": "stdout",
     "output_type": "stream",
     "text": [
      "[18, 7]\n",
      "[3, 3, 6, 13]\n"
     ]
    }
   ],
   "source": [
    "#find 2 sub sets that closest number\n",
    "arrTotal = [7, 18, 13, 6, 3, 3]\n",
    "def find_sub_sets():\n",
    "    n = len(arrTotal)\n",
    "    total_sum = sum(arrTotal)\n",
    "    target_sum = total_sum / 2\n",
    "\n",
    "    # Create a DP table to store whether a sum can be achieved using the elements.\n",
    "    dp = [[False] * (int(target_sum) + 1) for _ in range(n + 1)]\n",
    "\n",
    "    # Initialize the first column to True (sum 0 is always possible).\n",
    "    for i in range(n + 1):\n",
    "        dp[i][0] = True\n",
    "\n",
    "    # Fill the DP table.\n",
    "    for i in range(1, n + 1):\n",
    "        for j in range(1, int(target_sum) + 1):\n",
    "            if arrTotal[i - 1] <= j:\n",
    "                dp[i][j] = dp[i - 1][j] or dp[i - 1][j - arrTotal[i - 1]]\n",
    "            else:\n",
    "                dp[i][j] = dp[i - 1][j]\n",
    "\n",
    "    # Find the closest sum to the target sum.\n",
    "    closest_sum = 0\n",
    "    for j in range(int(target_sum), -1, -1):\n",
    "        if dp[n][j]:\n",
    "            closest_sum = j\n",
    "            break\n",
    "\n",
    "    # Reconstruct the subsets.\n",
    "    subset1 = []\n",
    "    subset2 = []\n",
    "    i = n\n",
    "    j = closest_sum\n",
    "    while i > 0 and j >= 0:\n",
    "        if dp[i - 1][j]:\n",
    "            subset2.append(arrTotal[i - 1])\n",
    "            i -= 1\n",
    "        else:\n",
    "            subset1.append(arrTotal[i - 1])\n",
    "            j -= arrTotal[i - 1]\n",
    "            i -= 1\n",
    "    remaining_elements = []\n",
    "    for num in arrTotal:\n",
    "        if num not in subset1 and num not in subset2:\n",
    "          remaining_elements.append(num)\n",
    "\n",
    "    if len(remaining_elements) > 0:\n",
    "      for num in remaining_elements:\n",
    "        if sum(subset1) <= sum(subset2):\n",
    "          subset1.append(num)\n",
    "        else:\n",
    "          subset2.append(num)\n",
    "\n",
    "    return subset1, subset2\n",
    "#test\n",
    "subset1, subset2 = find_sub_sets()\n",
    "print(subset1)\n",
    "print(subset2)"
   ]
  },
  {
   "cell_type": "code",
   "execution_count": 37,
   "metadata": {},
   "outputs": [],
   "source": [
    "#print the tree (preorder traversal)\n",
    "def preOrder(root):\n",
    "    #Write your code here\n",
    "    #print(root.info)\n",
    "    arrQueueNodes = []\n",
    "    arrQueueNodes.append(root)\n",
    "    arrQueueValues = []\n",
    "    while len(arrQueueNodes) > 0:\n",
    "        #get the first item of the queue nodes\n",
    "        currentNode = arrQueueNodes[0]\n",
    "        #save the info\n",
    "        arrQueueValues.append(str(currentNode.info))\n",
    "        arrQueueNodes.pop(0)    #remove the first item\n",
    "        #put the left node, if any\n",
    "        if currentNode.right is not None:\n",
    "            #put to the queue\n",
    "            arrQueueNodes.insert(0, currentNode.right)  #insert right first, for the case that the node has both left & right nodes\n",
    "        if currentNode.left is not None:\n",
    "            #put to the queue\n",
    "            arrQueueNodes.insert(0, currentNode.left)\n",
    "        \n",
    "    #print the arrQueueValues\n",
    "    \n",
    "    print(' '.join(arrQueueValues))\n"
   ]
  },
  {
   "cell_type": "code",
   "execution_count": 38,
   "metadata": {},
   "outputs": [],
   "source": [
    "#Huffman coding tree\n",
    "def decodeHuff(root, s):\n",
    "\t#Enter Your Code Here\n",
    "    c_list = list(s)\n",
    "    finalStr = []\n",
    "    currentNode = root\n",
    "    #print(str(currentNode.freq))\n",
    "    for c in c_list:\n",
    "        #print(':' + str(currentNode.freq) + ':')\n",
    "        #print(c)\n",
    "        \n",
    "        \n",
    "        if c == '0':\n",
    "            #turn left\n",
    "            #print('currentNode.left.data: ' + currentNode.left.data)\n",
    "            currentNode = currentNode.left\n",
    "        elif c == '1':\n",
    "            #turn right\n",
    "            #print('currentNode.right.data: ' + currentNode.right.data)\n",
    "            currentNode = currentNode.right\n",
    "        if currentNode.data is not None and currentNode.data != '' and currentNode.data != '\\0':    #be aware of this special character\n",
    "            #this is a leaf node\n",
    "            finalStr.append(currentNode.data)\n",
    "            currentNode = root  #reset\n",
    "            \n",
    "    print(''.join(finalStr))"
   ]
  },
  {
   "cell_type": "code",
   "execution_count": 39,
   "metadata": {},
   "outputs": [
    {
     "name": "stdout",
     "output_type": "stream",
     "text": [
      "BAD SET \n",
      "aabcde\n"
     ]
    }
   ],
   "source": [
    "#find no prefix set\n",
    "#BAD SET 'abcde' because 'abcd' is prefix of 'abcde'\n",
    "#otherwise print GOOD SET\n",
    "words = ['aab', 'cedaaa', 'defgab', 'jabjjjad', 'abcde', 'aabcde', 'bbbbbbbbbb']    #bad set\n",
    "#words = ['aab', 'defgab', 'abcde', 'cedaaa', 'bbbbbbbbbb', 'jabjjjad']  #good set\n",
    "\n",
    "def find_prefix():\n",
    "    #print(words)\n",
    "    #find all length of all words\n",
    "    len_words = set()\n",
    "    for word in words:\n",
    "        len_words.add(len(word))\n",
    "    #print(len_words)\n",
    "    #create a map of substring for each word\n",
    "    all_break_words = {}    #key: sub string, value: org word\n",
    "    for word in words:\n",
    "        current_len = len(word)\n",
    "        for lenw in len_words:\n",
    "            if lenw < current_len: #ignore itself\n",
    "                all_break_words[word[:lenw]] = word\n",
    "    #print(all_break_words)\n",
    "    is_badset = False\n",
    "    for word in words:\n",
    "        if word in all_break_words:\n",
    "            print('BAD SET \\n' + all_break_words[word])\n",
    "            is_badset = True\n",
    "            break\n",
    "    if not is_badset:\n",
    "        print('GOOD SET')\n",
    "\n",
    "#test\n",
    "find_prefix()"
   ]
  },
  {
   "cell_type": "code",
   "execution_count": 40,
   "metadata": {},
   "outputs": [
    {
     "name": "stdout",
     "output_type": "stream",
     "text": [
      "{1: [0], 3: [1], 4: [2], 5: [3], 6: [4]}\n",
      "[1, 4]\n"
     ]
    }
   ],
   "source": [
    "#\n",
    "m = 6\n",
    "cost = [1, 3, 4, 5 , 6]\n",
    "#m = 4\n",
    "#cost = [2, 2, 4, 3]\n",
    "def icecreamParlor(m, arr):\n",
    "    results = []    #indexes of 2 flavors, based on -1\n",
    "    totalMoney = m\n",
    "    arrLen = len(arr)\n",
    "    #use 2 pointers -> too slow\n",
    "    #use map\n",
    "    indexMap = {}   #key: cost, value: position of that cost in the array\n",
    "    for i in range(arrLen):\n",
    "        if arr[i] not in indexMap:\n",
    "            indexMap[arr[i]] = [i]\n",
    "        else:\n",
    "            indexMap[arr[i]].append(i)\n",
    "    print(indexMap)\n",
    "    for i in range(arrLen):\n",
    "        currentCost = arr[i]\n",
    "        if m <= currentCost:    #valid?\n",
    "            break\n",
    "        anotherCost = m - currentCost\n",
    "        #print(anotherCost)\n",
    "        if anotherCost in indexMap:# and i != indexMap[anotherCost]:  #ignore itself\n",
    "            #found it\n",
    "            results.append(i + 1)\n",
    "            #find the index\n",
    "            for j in range(len(indexMap[anotherCost])):\n",
    "                if indexMap[anotherCost][j] != i:\n",
    "                    results.append(indexMap[anotherCost][j] + 1)\n",
    "                    break\n",
    "            break\n",
    "    return results\n",
    "#test -> some test cases still failed\n",
    "print(icecreamParlor(m, cost))"
   ]
  },
  {
   "cell_type": "code",
   "execution_count": 41,
   "metadata": {},
   "outputs": [
    {
     "name": "stdout",
     "output_type": "stream",
     "text": [
      "{1: True, 2: True, 3: True, 5: True, 8: True}\n",
      "{2: True, 5: True, 9: True}\n",
      "{1: True, 5: True, 6: True, 7: True}\n",
      "5\n"
     ]
    }
   ],
   "source": [
    "#remove some items from stacks to find out the same height\n",
    "h1 = [3, 2, 1, 1, 1]\n",
    "h2 = [4, 3, 2]\n",
    "h3 = [1, 1, 4, 1]\n",
    "#output: the height of the stacks when they are equalized\n",
    "def calculateSum(arr):\n",
    "    len_arr = len(arr)\n",
    "    newArr = [arr[len_arr-1]]   #init with first item\n",
    "    item_map = {}   #key: number, value: True (existed)\n",
    "    item_map[arr[len_arr-1]] = True\n",
    "    for i in range(len_arr - 2, -1, -1):\n",
    "        newItem = newArr[len(newArr)-1] + arr[i]\n",
    "        newArr.append(newItem)\n",
    "        item_map[newItem] = True\n",
    "    return newArr, item_map\n",
    "\n",
    "def equalStacks():\n",
    "    m = 0   #assuming this is the height that all 3 stacks have same value\n",
    "    #calculate accumulation sum of h1\n",
    "    new_h1, item_map_h1 = calculateSum(h1)\n",
    "    print(item_map_h1)\n",
    "    new_h2, item_map_h2 = calculateSum(h2)\n",
    "    print(item_map_h2)\n",
    "    new_h3, item_map_h3 = calculateSum(h3)\n",
    "    print(item_map_h3)\n",
    "    #find the common number in all 3 new lists\n",
    "    common_keys = set(item_map_h1.keys()) & set(item_map_h2.keys()) & set(item_map_h3.keys()) #operator '&' to set intersection\n",
    "    #print(common_keys)\n",
    "    #sort to get maximum value\n",
    "    if len(common_keys) > 0:\n",
    "        for key in common_keys:\n",
    "            if m < key:\n",
    "                m = key\n",
    "    return m\n",
    "\n",
    "#test\n",
    "print(str(equalStacks()))"
   ]
  },
  {
   "cell_type": "code",
   "execution_count": 42,
   "metadata": {},
   "outputs": [
    {
     "name": "stdout",
     "output_type": "stream",
     "text": [
      "{(1, 4): 6}\n"
     ]
    }
   ],
   "source": [
    "abc = {}\n",
    "abc[(1,4)] = 6\n",
    "print(abc)"
   ]
  },
  {
   "cell_type": "code",
   "execution_count": 104,
   "metadata": {},
   "outputs": [
    {
     "name": "stdout",
     "output_type": "stream",
     "text": [
      "-16\n",
      "-1 -1\n"
     ]
    },
    {
     "data": {
      "text/plain": [
       "[-1, -1]"
      ]
     },
     "execution_count": 104,
     "metadata": {},
     "output_type": "execute_result"
    }
   ],
   "source": [
    "import sys\n",
    "\n",
    "\n",
    "#find max subarray & max subsequence\n",
    "arr = [-1, 2, 3, -4, 5, 10]\n",
    "#output 2 + 3 + (-4) + 5 + 10 = 16, 2 + 3 + 5 + 10 = 20\n",
    "arr = [-2, -3, -1, -4, -6] #output -1 -1\n",
    "#arr = [1, 2, 3, 4] #10 10\n",
    "#arr = [2, -1, 2, 3, 4, -5]   #10 11\n",
    "def maxSubarray():\n",
    "    results = []    #0: sum of max sub array, 1: sum of max items\n",
    "    #find max subarray first\n",
    "    arrLen = len(arr)\n",
    "    totalSum = 0\n",
    "    \n",
    "    maxSum = min(0, arr[0])\n",
    "    for item in arr:\n",
    "        totalSum += item\n",
    "        #if item > 0:    #this not work if all items < 0\n",
    "            #maxSum += item\n",
    "        maxSum = max(maxSum, maxSum + item, item)\n",
    "    print(str(totalSum))\n",
    "    #use 2 pointers left and right to scan the array\n",
    "    l_p = 0\n",
    "    r_p = arrLen - 1\n",
    "    while l_p < r_p:\n",
    "        #what if we remove item at leftmost\n",
    "        totalSumWithoutLeftmost = totalSum - arr[l_p]\n",
    "        totalSumWithoutRightmost = totalSum - arr[r_p]\n",
    "        if totalSum >= totalSumWithoutLeftmost and totalSum >= totalSumWithoutRightmost:\n",
    "            break\n",
    "        if totalSumWithoutLeftmost > totalSumWithoutRightmost:\n",
    "            #remove the leftmost item\n",
    "            totalSum = totalSum - arr[l_p]\n",
    "            l_p += 1\n",
    "        else:\n",
    "            #remove this rightmost item\n",
    "            totalSum = totalSum - arr[r_p]\n",
    "            r_p -= 1\n",
    "        \n",
    "    #print(str(l_p))\n",
    "    #print(str(r_p))\n",
    "    print(str(totalSum) + ' ' + str(maxSum))\n",
    "    return [totalSum, maxSum]\n",
    "#test\n",
    "maxSubarray()\n",
    "    "
   ]
  },
  {
   "cell_type": "code",
   "execution_count": null,
   "metadata": {},
   "outputs": [],
   "source": []
  }
 ],
 "metadata": {
  "kernelspec": {
   "display_name": "3.9.10",
   "language": "python",
   "name": "python3"
  },
  "language_info": {
   "codemirror_mode": {
    "name": "ipython",
    "version": 3
   },
   "file_extension": ".py",
   "mimetype": "text/x-python",
   "name": "python",
   "nbconvert_exporter": "python",
   "pygments_lexer": "ipython3",
   "version": "3.9.10"
  }
 },
 "nbformat": 4,
 "nbformat_minor": 2
}
