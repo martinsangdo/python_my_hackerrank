{
 "cells": [
  {
   "cell_type": "markdown",
   "metadata": {},
   "source": [
    "# Utility functions"
   ]
  },
  {
   "cell_type": "code",
   "execution_count": 6,
   "metadata": {},
   "outputs": [
    {
     "name": "stdout",
     "output_type": "stream",
     "text": [
      "[23, 9, 8, 7, 5, 3, 1]\n"
     ]
    }
   ],
   "source": [
    "#Reverse an array, use 2 pointers\n",
    "def reverse_array(a):\n",
    "    a_len = len(a)\n",
    "    #handle invalid array\n",
    "    if a_len == 0:\n",
    "        return a\n",
    "    l_index = 0\n",
    "    p_index = len(a) - 1\n",
    "    while l_index < p_index:\n",
    "        tmp = a[p_index]\n",
    "        a[p_index] = a[l_index]\n",
    "        a[l_index] = tmp\n",
    "        l_index += 1\n",
    "        p_index -= 1\n",
    "\n",
    "    return a\n",
    "#test\n",
    "a  = [1, 3, 5, 7, 8, 9]\n",
    "a  = [1, 3, 5, 7, 8, 9, 23]\n",
    "b = reverse_array(a)\n",
    "print(b)"
   ]
  },
  {
   "cell_type": "code",
   "execution_count": null,
   "metadata": {},
   "outputs": [
    {
     "name": "stdout",
     "output_type": "stream",
     "text": [
      "0\n"
     ]
    }
   ],
   "source": [
    "#find sum of a matrix N x N (top left)\n",
    "def find_sum_matrix(matrix, size):  #top left size\n",
    "    sum = 0\n",
    "    \n",
    "    return sum\n",
    "\n",
    "#test\n",
    "matrix = [[1, 3, 5], [5, 6, 2]] #3 x 3\n",
    "sum = find_sum_matrix(matrix, 2)\n",
    "print(sum)\n"
   ]
  },
  {
   "cell_type": "code",
   "execution_count": null,
   "metadata": {},
   "outputs": [],
   "source": [
    "#compare strings as Anagrams (use dictionary)"
   ]
  }
 ],
 "metadata": {
  "kernelspec": {
   "display_name": "3.9.10",
   "language": "python",
   "name": "python3"
  },
  "language_info": {
   "codemirror_mode": {
    "name": "ipython",
    "version": 3
   },
   "file_extension": ".py",
   "mimetype": "text/x-python",
   "name": "python",
   "nbconvert_exporter": "python",
   "pygments_lexer": "ipython3",
   "version": "3.9.10"
  }
 },
 "nbformat": 4,
 "nbformat_minor": 2
}
