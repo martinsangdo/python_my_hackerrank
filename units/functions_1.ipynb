{
 "cells": [
  {
   "cell_type": "markdown",
   "metadata": {},
   "source": [
    "# Utility functions"
   ]
  },
  {
   "cell_type": "code",
   "execution_count": 1,
   "metadata": {},
   "outputs": [
    {
     "name": "stdout",
     "output_type": "stream",
     "text": [
      "[23, 9, 8, 7, 5, 3, 1]\n"
     ]
    }
   ],
   "source": [
    "#Reverse an array, use 2 pointers\n",
    "def reverse_array(a):\n",
    "    a_len = len(a)\n",
    "    #handle invalid array\n",
    "    if a_len == 0:\n",
    "        return a\n",
    "    l_index = 0\n",
    "    p_index = len(a) - 1\n",
    "    while l_index < p_index:\n",
    "        tmp = a[p_index]\n",
    "        a[p_index] = a[l_index]\n",
    "        a[l_index] = tmp\n",
    "        l_index += 1\n",
    "        p_index -= 1\n",
    "\n",
    "    return a\n",
    "#test\n",
    "a  = [1, 3, 5, 7, 8, 9]\n",
    "a  = [1, 3, 5, 7, 8, 9, 23]\n",
    "b = reverse_array(a)\n",
    "print(b)"
   ]
  },
  {
   "cell_type": "code",
   "execution_count": 2,
   "metadata": {},
   "outputs": [
    {
     "name": "stdout",
     "output_type": "stream",
     "text": [
      "13\n"
     ]
    }
   ],
   "source": [
    "#find sum of a matrix N x N (top left)\n",
    "def find_sum_matrix(matrix, size):  #top left size\n",
    "    sum = 0\n",
    "    matrix_w = len(matrix[0])   #no. of columns\n",
    "    matrix_h = len(matrix)      #no. of rows\n",
    "    for row in range(size):\n",
    "        for col in range(size):\n",
    "            sum += matrix[row][col]\n",
    "    return sum\n",
    "\n",
    "#test\n",
    "matrix = [[1, 2, 5], [4, 6, 2]] #3 x 3\n",
    "sum = find_sum_matrix(matrix, 2)\n",
    "print(sum)\n"
   ]
  },
  {
   "cell_type": "code",
   "execution_count": 3,
   "metadata": {},
   "outputs": [
    {
     "name": "stdout",
     "output_type": "stream",
     "text": [
      "{'a': 3, 'f': 2, 's': 2, 'd': 1}\n"
     ]
    }
   ],
   "source": [
    "#convert string to map\n",
    "def convert_str_2_map(word):\n",
    "    map = {}    #key: character, value: frequent of that char\n",
    "    chars = list(word)\n",
    "    for c in chars:\n",
    "        if c in map:\n",
    "            map[c] += 1\n",
    "        else:\n",
    "            map[c] = 1\n",
    "    return map\n",
    "#test\n",
    "print(convert_str_2_map('aafsdafs'))"
   ]
  },
  {
   "cell_type": "code",
   "execution_count": 4,
   "metadata": {},
   "outputs": [
    {
     "name": "stdout",
     "output_type": "stream",
     "text": [
      "False\n"
     ]
    }
   ],
   "source": [
    "#compare strings as Anagrams (use dictionary)\n",
    "def is_anagram(wordA, wordB):\n",
    "    mapA = convert_str_2_map(wordA)\n",
    "    mapB = convert_str_2_map(wordB)\n",
    "    if len(wordA) != len(wordB):\n",
    "        return False\n",
    "    #compare 2 maps\n",
    "    for c in mapA.keys():\n",
    "        if c not in mapB or mapA[c] != mapB[c]:\n",
    "            return False\n",
    "    return True\n",
    "#test\n",
    "wordA = 'speed'\n",
    "wordB = 'sedde'\n",
    "print(is_anagram(wordA, wordB))"
   ]
  },
  {
   "cell_type": "code",
   "execution_count": 6,
   "metadata": {},
   "outputs": [
    {
     "name": "stdout",
     "output_type": "stream",
     "text": [
      "{1: [2], 2: [3, 4], 3: [4], 4: []}\n"
     ]
    }
   ],
   "source": [
    "#convert edges to graph\n",
    "# A -> [B, C], B -> [C, D, E]\n",
    "edges = [[1,2], [2,3], [3,4], [2, 4]]\n",
    "\n",
    "def convert_edges_2_graph():\n",
    "    graph = {}  #key: node, value: list of adjacent nodes\n",
    "    for start, end in edges:\n",
    "        if start == end:\n",
    "            #invalid edge\n",
    "            continue\n",
    "        if start not in graph: \n",
    "            graph[start] = []\n",
    "        if end not in graph:\n",
    "            graph[end] = []\n",
    "        if end not in graph[start]:\n",
    "            graph[start].append(end)\n",
    "    return graph\n",
    "#test\n",
    "print(convert_edges_2_graph())"
   ]
  },
  {
   "cell_type": "code",
   "execution_count": null,
   "metadata": {},
   "outputs": [
    {
     "name": "stdout",
     "output_type": "stream",
     "text": [
      "{(1, 2): 1, (2, 3): 2}\n",
      "{1, 2, 3, 4}\n"
     ]
    }
   ],
   "source": [
    "import queue\n",
    "\n",
    "#breadth first search (BFS)\n",
    "w = 6   #weight of each edges\n",
    "n = 5   #number of nodes\n",
    "m = 3   #number of edges\n",
    "s = 1   #starting node\n",
    "edges = [[1,2], [2,3], [3,4]]\n",
    "#output: list of weights from node starting node to all nodes, if unreachable, return -1\n",
    "def bfs():\n",
    "    #\n",
    "    distances = {}    #key: distances from node 1 to node X\n",
    "    #todo complete to find path from node 1 to every node\n",
    "    graph = convert_edges_2_graph() #{1: [2], 2: [3, 4], 3: [4], 4: [5, 6]}\n",
    "    #print visisted nodes\n",
    "    visited_nodes = set() #first one\n",
    "    q = queue.Queue()\n",
    "    q.put(s)    #put first node\n",
    "    #travert to each path\n",
    "    while not q.empty():\n",
    "        first_item = q.get()\n",
    "        if first_item not in visited_nodes:\n",
    "            visited_nodes.add(first_item)\n",
    "        path = graph[first_item]    #nodes linking to this start_node\n",
    "        for node in path:\n",
    "            if node not in visited_nodes:\n",
    "                visited_nodes.add(node)\n",
    "            #push more nodes into queue\n",
    "            for new_node in graph[node]:\n",
    "                q.put(new_node)\n",
    "\n",
    "    return visited_nodes\n",
    "#test\n",
    "\n",
    "print(bfs())"
   ]
  },
  {
   "cell_type": "code",
   "execution_count": null,
   "metadata": {},
   "outputs": [],
   "source": [
    "#revert a linked list 1-> 2 -> 3 -> NULL, return 3 -> 2 -> 1 -> NULL\n",
    "def reverse(llist):\n",
    "    if llist is None or llist.next is None:\n",
    "        return llist\n",
    "    nodeA = llist #1\n",
    "    nodeB = nodeA.next    #2\n",
    "    nodeA.next = None   #used to stop the list\n",
    "    while nodeB is not None:\n",
    "        tmp = nodeB.next    #3\n",
    "        nodeB.next = nodeA  #revert 2 -> 1\n",
    "        nodeA = nodeB   #2\n",
    "        nodeB = tmp #3\n",
    "    return nodeA"
   ]
  },
  {
   "cell_type": "code",
   "execution_count": 2,
   "metadata": {},
   "outputs": [
    {
     "name": "stdout",
     "output_type": "stream",
     "text": [
      "Prime numbers up to 15: [2, 3, 5, 7, 11, 13]\n",
      "Prime numbers up to 50: [2, 3, 5, 7, 11, 13, 17, 19, 23, 29, 31, 37, 41, 43, 47]\n",
      "Prime numbers up to 50 (optimized): [2, 3, 5, 7, 11, 13, 17, 19, 23, 29, 31, 37, 41, 43, 47]\n",
      "Prime numbers up to 20: [2, 3, 5, 7, 11, 13, 17, 19]\n",
      "Prime numbers up to 20 (optimized): [2, 3, 5, 7, 11, 13, 17, 19]\n"
     ]
    }
   ],
   "source": [
    "def is_prime(n):\n",
    "    \"\"\"Checks if a number is prime.\"\"\"\n",
    "    if n <= 1:\n",
    "        return False\n",
    "    if n <= 3:\n",
    "        return True\n",
    "    if n % 2 == 0 or n % 3 == 0:\n",
    "        return False\n",
    "    i = 5\n",
    "    while i * i <= n:\n",
    "        if n % i == 0 or n % (i + 2) == 0:\n",
    "            return False\n",
    "        i += 6\n",
    "    return True\n",
    "\n",
    "def generate_primes(limit):\n",
    "    \"\"\"Generates a list of prime numbers up to a given limit.\"\"\"\n",
    "    primes = []\n",
    "    for num in range(2, limit + 1):\n",
    "        if is_prime(num):\n",
    "            primes.append(num)\n",
    "    return primes\n",
    "\n",
    "def generate_primes_optimized(limit):\n",
    "    \"\"\"Generates a list of prime numbers up to a given limit using the Sieve of Eratosthenes.\"\"\"\n",
    "    if limit < 2:\n",
    "        return []\n",
    "\n",
    "    primes = [True] * (limit + 1) #Mark all numbers as potentially prime\n",
    "    primes[0] = primes[1] = False #0 and 1 are not prime\n",
    "\n",
    "    for i in range(2, int(limit**0.5) + 1): #iterate through potential primes up to the square root of the limit\n",
    "        if primes[i]: #If i is still marked as prime\n",
    "            for j in range(i*i, limit + 1, i): #mark multiples of i as non-prime\n",
    "                primes[j] = False\n",
    "\n",
    "    return [i for i, is_prime_num in enumerate(primes) if is_prime_num] #return a list of the indices of the remaining True values.\n",
    "\n",
    "# Example usage:\n",
    "limit = 15\n",
    "prime_list = generate_primes(limit)\n",
    "print(f\"Prime numbers up to {limit}: {prime_list}\")\n",
    "\n",
    "limit = 50\n",
    "prime_list = generate_primes(limit)\n",
    "print(f\"Prime numbers up to {limit}: {prime_list}\")\n",
    "\n",
    "prime_list_optimized = generate_primes_optimized(limit)\n",
    "print(f\"Prime numbers up to {limit} (optimized): {prime_list_optimized}\")\n",
    "\n",
    "limit2 = 20\n",
    "prime_list2 = generate_primes(limit2)\n",
    "print(f\"Prime numbers up to {limit2}: {prime_list2}\")\n",
    "\n",
    "prime_list2_optimized = generate_primes_optimized(limit2)\n",
    "print(f\"Prime numbers up to {limit2} (optimized): {prime_list2_optimized}\")"
   ]
  },
  {
   "cell_type": "code",
   "execution_count": null,
   "metadata": {},
   "outputs": [
    {
     "name": "stdout",
     "output_type": "stream",
     "text": [
      "[2, 3, 5, 7, 11]\n",
      "[3, 5, 7, 11]\n"
     ]
    }
   ],
   "source": [
    "arr = [2, 3, 5, 7, 11, 13]\n",
    "arr.pop()\n",
    "print(arr)\n",
    "arr.pop(0)  #first item\n",
    "print(arr)"
   ]
  },
  {
   "cell_type": "code",
   "execution_count": null,
   "metadata": {},
   "outputs": [],
   "source": []
  }
 ],
 "metadata": {
  "kernelspec": {
   "display_name": "3.9.10",
   "language": "python",
   "name": "python3"
  },
  "language_info": {
   "codemirror_mode": {
    "name": "ipython",
    "version": 3
   },
   "file_extension": ".py",
   "mimetype": "text/x-python",
   "name": "python",
   "nbconvert_exporter": "python",
   "pygments_lexer": "ipython3",
   "version": "3.9.10"
  }
 },
 "nbformat": 4,
 "nbformat_minor": 2
}
