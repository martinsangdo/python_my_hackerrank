{
 "cells": [
  {
   "cell_type": "markdown",
   "metadata": {},
   "source": [
    "# Utility functions"
   ]
  },
  {
   "cell_type": "code",
   "execution_count": 6,
   "metadata": {},
   "outputs": [
    {
     "name": "stdout",
     "output_type": "stream",
     "text": [
      "[23, 9, 8, 7, 5, 3, 1]\n"
     ]
    }
   ],
   "source": [
    "#Reverse an array, use 2 pointers\n",
    "def reverse_array(a):\n",
    "    a_len = len(a)\n",
    "    #handle invalid array\n",
    "    if a_len == 0:\n",
    "        return a\n",
    "    l_index = 0\n",
    "    p_index = len(a) - 1\n",
    "    while l_index < p_index:\n",
    "        tmp = a[p_index]\n",
    "        a[p_index] = a[l_index]\n",
    "        a[l_index] = tmp\n",
    "        l_index += 1\n",
    "        p_index -= 1\n",
    "\n",
    "    return a\n",
    "#test\n",
    "a  = [1, 3, 5, 7, 8, 9]\n",
    "a  = [1, 3, 5, 7, 8, 9, 23]\n",
    "b = reverse_array(a)\n",
    "print(b)"
   ]
  },
  {
   "cell_type": "code",
   "execution_count": 11,
   "metadata": {},
   "outputs": [
    {
     "name": "stdout",
     "output_type": "stream",
     "text": [
      "13\n"
     ]
    }
   ],
   "source": [
    "#find sum of a matrix N x N (top left)\n",
    "def find_sum_matrix(matrix, size):  #top left size\n",
    "    sum = 0\n",
    "    matrix_w = len(matrix[0])   #no. of columns\n",
    "    matrix_h = len(matrix)      #no. of rows\n",
    "    for row in range(size):\n",
    "        for col in range(size):\n",
    "            sum += matrix[row][col]\n",
    "    return sum\n",
    "\n",
    "#test\n",
    "matrix = [[1, 2, 5], [4, 6, 2]] #3 x 3\n",
    "sum = find_sum_matrix(matrix, 2)\n",
    "print(sum)\n"
   ]
  },
  {
   "cell_type": "code",
   "execution_count": 14,
   "metadata": {},
   "outputs": [
    {
     "name": "stdout",
     "output_type": "stream",
     "text": [
      "{'a': 3, 'f': 2, 's': 2, 'd': 1}\n"
     ]
    }
   ],
   "source": [
    "#convert string to map\n",
    "def convert_str_2_map(word):\n",
    "    map = {}    #key: character, value: frequent of that char\n",
    "    chars = list(word)\n",
    "    for c in chars:\n",
    "        if c in map:\n",
    "            map[c] += 1\n",
    "        else:\n",
    "            map[c] = 1\n",
    "    return map\n",
    "#test\n",
    "print(convert_str_2_map('aafsdafs'))"
   ]
  },
  {
   "cell_type": "code",
   "execution_count": 19,
   "metadata": {},
   "outputs": [
    {
     "name": "stdout",
     "output_type": "stream",
     "text": [
      "False\n"
     ]
    }
   ],
   "source": [
    "#compare strings as Anagrams (use dictionary)\n",
    "def is_anagram(wordA, wordB):\n",
    "    mapA = convert_str_2_map(wordA)\n",
    "    mapB = convert_str_2_map(wordB)\n",
    "    if len(wordA) != len(wordB):\n",
    "        return False\n",
    "    #compare 2 maps\n",
    "    for c in mapA.keys():\n",
    "        if c not in mapB or mapA[c] != mapB[c]:\n",
    "            return False\n",
    "    return True\n",
    "#test\n",
    "wordA = 'speed'\n",
    "wordB = 'sedde'\n",
    "print(is_anagram(wordA, wordB))"
   ]
  },
  {
   "cell_type": "code",
   "execution_count": null,
   "metadata": {},
   "outputs": [],
   "source": []
  }
 ],
 "metadata": {
  "kernelspec": {
   "display_name": "3.9.10",
   "language": "python",
   "name": "python3"
  },
  "language_info": {
   "codemirror_mode": {
    "name": "ipython",
    "version": 3
   },
   "file_extension": ".py",
   "mimetype": "text/x-python",
   "name": "python",
   "nbconvert_exporter": "python",
   "pygments_lexer": "ipython3",
   "version": "3.9.10"
  }
 },
 "nbformat": 4,
 "nbformat_minor": 2
}
